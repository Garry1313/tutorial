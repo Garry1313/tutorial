{
 "cells": [
  {
   "cell_type": "markdown",
   "metadata": {},
   "source": [
    "## Python primer\n",
    "This tutorial assumes you have installed python 3 via [anaconda].(https://www.anaconda.com/download/) and using jupyter notebook\n",
    "\n",
    "This is an extremely basic introduction to Python to get you started. This is not a python tutorial per se. If you want a more formal and thorough start to python, I recommend this excellent course from [datacamp](https://www.datacamp.com/courses/intro-to-python-for-data-science)."
   ]
  },
  {
   "cell_type": "code",
   "execution_count": 2,
   "metadata": {},
   "outputs": [],
   "source": [
    "# Comments in python starts with a hash mark #\n",
    "# Comments starting with hash must end in the same line;\n",
    "# You can't continue it in the next line\n",
    "# Comments are not executed as code; so include any information in them\n"
   ]
  },
  {
   "cell_type": "markdown",
   "metadata": {},
   "source": [
    "You can use python as a calculator. All arithmetic symbols are accepted.\n",
    "Use ** for exponentiation"
   ]
  },
  {
   "cell_type": "code",
   "execution_count": 4,
   "metadata": {},
   "outputs": [
    {
     "data": {
      "text/plain": [
       "32"
      ]
     },
     "execution_count": 4,
     "metadata": {},
     "output_type": "execute_result"
    }
   ],
   "source": [
    "2**5"
   ]
  },
  {
   "cell_type": "markdown",
   "metadata": {},
   "source": [
    "By default, jupyter notebook shows only the last output\n",
    "Use the print statement explicitly to print the output"
   ]
  },
  {
   "cell_type": "code",
   "execution_count": 6,
   "metadata": {},
   "outputs": [
    {
     "name": "stdout",
     "output_type": "stream",
     "text": [
      "7\n",
      "5\n",
      "14 32 2.3333333333333335\n"
     ]
    }
   ],
   "source": [
    "print(2+5)\n",
    "print(10-5)\n",
    "print(7*2, 2**5, 7/3) # Use comma to print multiple statements in a single line"
   ]
  },
  {
   "cell_type": "markdown",
   "metadata": {},
   "source": [
    "Strings in Python can be enclosed in single or double quotes"
   ]
  },
  {
   "cell_type": "code",
   "execution_count": 14,
   "metadata": {},
   "outputs": [
    {
     "name": "stdout",
     "output_type": "stream",
     "text": [
      "hello world\n",
      "It's a good day\n",
      "A double quote is represented by \"\"\n"
     ]
    }
   ],
   "source": [
    "print('hello world')\n",
    "print(\"It's a good day\")\n",
    "print('A double quote is represented by \"\"') # Now you know why quotes are useful"
   ]
  },
  {
   "cell_type": "markdown",
   "metadata": {},
   "source": [
    "Sometimes you need to print some value with a string. Use {} and format to achieve this."
   ]
  },
  {
   "cell_type": "code",
   "execution_count": 15,
   "metadata": {},
   "outputs": [
    {
     "name": "stdout",
     "output_type": "stream",
     "text": [
      "My name is Machine\n",
      "10 multiplied by 20 is 200\n",
      "For multiple values, use multiple braces and commas 123\n"
     ]
    }
   ],
   "source": [
    "print('My name is {}'.format('Machine'))\n",
    "print(\"10 multiplied by 20 is {}\".format(10*20))\n",
    "print('For multiple values, use multiple braces and commas {}{}{}'.format(1,2,3))"
   ]
  },
  {
   "cell_type": "markdown",
   "metadata": {},
   "source": [
    "Let's do a simple calculation. You have purchased 20 apples at 10 each and the tax rate is 10 percent. What is the total amount?\n",
    "\n",
    "* Number of apples = 20\n",
    "* Cost per apple = 10\n",
    "* Tax rate = 10%\n",
    "* So, Cost = 20 * 10 = 200\n",
    "* Tax = 10% on 200 = 200 * 0.1 = 20\n",
    "* Total Amount = 200 + 20 = **220**\n",
    "\n",
    "Let's do this in Python"
   ]
  },
  {
   "cell_type": "code",
   "execution_count": 17,
   "metadata": {},
   "outputs": [
    {
     "name": "stdout",
     "output_type": "stream",
     "text": [
      "Cost before tax is 200\n",
      "Tax is 20.0\n",
      "Total Amount is 220.0\n"
     ]
    }
   ],
   "source": [
    "number_of_apples = 20 # Don't leave spaces for names. Sorry its a requirement :)\n",
    "cost_per_apple = 10\n",
    "tax_rate = 0.1\n",
    "cost = number_of_apples * cost_per_apple\n",
    "print('Cost before tax is {}'.format(cost)) # Print included for checking\n",
    "tax = tax_rate * cost\n",
    "print('Tax is {}'.format(tax))\n",
    "total_amount = cost + tax\n",
    "print('Total Amount is {}'.format(total_amount))\n"
   ]
  },
  {
   "cell_type": "markdown",
   "metadata": {},
   "source": [
    "So, we have just turned a calculation into Python code. I just included the print statement for displaying the results at each step; its not mandatory\n",
    "\n",
    "Instead of directly calculating, we assign names to each of our values. These names are called variables. Variables are descriptive names; you can select any name but remember the following rules\n",
    " * variables should not have spaces\n",
    " * variables should not be reserved python keywords.\n",
    "\n",
    "But how do I know python keywords. Simple they just show up in green in this notebook when you type.\n",
    "\n",
    "Varibles are useful because they are **descriptive, reusable and reduce our work and errors**. We just turned a calculation into an equation so that we can just fill in the required 3 values and the calculations are done automatically instead of recalculating everytime"
   ]
  }
 ],
 "metadata": {
  "kernelspec": {
   "display_name": "Python 3",
   "language": "python",
   "name": "python3"
  },
  "language_info": {
   "codemirror_mode": {
    "name": "ipython",
    "version": 3
   },
   "file_extension": ".py",
   "mimetype": "text/x-python",
   "name": "python",
   "nbconvert_exporter": "python",
   "pygments_lexer": "ipython3",
   "version": "3.6.5"
  }
 },
 "nbformat": 4,
 "nbformat_minor": 2
}
