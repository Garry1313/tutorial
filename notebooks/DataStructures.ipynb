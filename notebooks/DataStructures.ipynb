{
 "cells": [
  {
   "cell_type": "markdown",
   "metadata": {},
   "source": [
    "## Python primer\n",
    "This tutorial assumes you have installed python 3 via [anaconda].(https://www.anaconda.com/download/) and using jupyter notebook\n",
    "\n",
    "This is an extremely basic introduction to Python to get you started. This is not a python tutorial per se. If you want a more formal and thorough start to python, I recommend this excellent course from [datacamp](https://www.datacamp.com/courses/intro-to-python-for-data-science)."
   ]
  },
  {
   "cell_type": "markdown",
   "metadata": {},
   "source": [
    "We need some sort of a structure to store data. These are called data structures. We would now dive into 2 basic data structures provided by Python\n",
    " - lists\n",
    " - dictionaries\n",
    " \n",
    "**Lists** are simply arrays that are indexed by numbers.\n",
    "\n",
    "**Dictionaries** are simple key-value pairs.\n"
   ]
  },
  {
   "cell_type": "markdown",
   "metadata": {},
   "source": [
    "## Lists\n",
    "\n",
    "Lists in python start and end with a square bracket; items inside a list are separated by commas. Lists can contain anything within it and not restricted to a particular type; even an another list. Lists are indexed starting with 0.\n",
    "\n",
    "```python\n",
    "# This is a list with 4 elements\n",
    "a_list = [1,2,3,4]\n",
    "```\n",
    "\n",
    "You can access the items in a list by using the same square brackets\n",
    "```python\n",
    "a_list[0] # returns 1 since list index start with zero\n",
    "```\n",
    "\n",
    "See the below examples"
   ]
  },
  {
   "cell_type": "code",
   "execution_count": 1,
   "metadata": {},
   "outputs": [
    {
     "name": "stdout",
     "output_type": "stream",
     "text": [
      "[0, 1, 2, 3, 'a', 'b', 'c', 0.5, 'hello', [10, 20, 30]]\n",
      "0\n",
      "[10, 20, 30]\n",
      "hello\n",
      "[0, 1, 2, 3, 'a']\n"
     ]
    }
   ],
   "source": [
    "# This is a list with 10 items\n",
    "a_list = [0,1,2,3,'a','b','c',0.5,'hello',[10,20,30]]\n",
    "print(a_list)\n",
    "\n",
    "# Get the first item\n",
    "print(a_list[0])\n",
    "\n",
    "# Get the last item\n",
    "print(a_list[9])\n",
    "\n",
    "# Get the second last item, the 9th item\n",
    "print(a_list[-2])\n",
    "\n",
    "# Access the first five elements\n",
    "print(a_list[0:5])"
   ]
  },
  {
   "cell_type": "markdown",
   "metadata": {},
   "source": [
    "As seen in the above example you could use the minus sign to access items backwards. So -1 mean the last item, -2 mean the second last and so on.\n",
    "\n",
    "You could also use the colon, *called the slice operator*, to get more than one items. The syntax is ```list[start:end:step]``` where \n",
    " - start is the starting item you want to get\n",
    " - end is the final item you want to get\n",
    " - step is the step size taken at each access\n",
    " \n",
    "**Note, to get the first 4 items, you should use list[0:4] and not 3 since python doesn't get the last item.**\n",
    "\n",
    "See the examples below"
   ]
  },
  {
   "cell_type": "code",
   "execution_count": 2,
   "metadata": {},
   "outputs": [
    {
     "name": "stdout",
     "output_type": "stream",
     "text": [
      "[0, 1, 2]\n",
      "[0, 1, 2]\n",
      "[0, 2, 'a', 'c', 'hello']\n",
      "['c', 0.5, 'hello', [10, 20, 30]]\n"
     ]
    },
    {
     "data": {
      "text/plain": [
       "10"
      ]
     },
     "execution_count": 2,
     "metadata": {},
     "output_type": "execute_result"
    }
   ],
   "source": [
    "# Would fetch the first 3 items, not the fourth one\n",
    "print(a_list[0:3])\n",
    "\n",
    "# Same as above\n",
    "print(a_list[:3])\n",
    "\n",
    "# Get items 1,3,5,7,9\n",
    "print(a_list[0::2]) # 2 is the step size\n",
    "\n",
    "# Get the last 4 items\n",
    "print(a_list[-4:]) \n",
    "\n",
    "# Use the len function to know the length of the list\n",
    "len(a_list)"
   ]
  },
  {
   "cell_type": "markdown",
   "metadata": {},
   "source": [
    "You can add, remove, find an item in a list"
   ]
  },
  {
   "cell_type": "code",
   "execution_count": 3,
   "metadata": {},
   "outputs": [
    {
     "name": "stdout",
     "output_type": "stream",
     "text": [
      "[0, 1, 2, 3, 'a', 'b', 'c', 0.5, 'hello', [10, 20, 30], 'add']\n",
      "[0, 1, 3, 'a', 'b', 'c', 0.5, 'hello', [10, 20, 30], 'add']\n",
      "3\n",
      "1\n",
      "['add', [10, 20, 30], 'hello', 0.5, 'c', 'b', 'a', 3, 1, 0]\n"
     ]
    }
   ],
   "source": [
    "# Append adds an item to the list\n",
    "a_list.append('add')\n",
    "print(a_list)\n",
    "\n",
    "# Remove an item by value - removes only the first occurence\n",
    "a_list.remove(2)\n",
    "print(a_list)\n",
    "\n",
    "# Find the index of an items - returns only the first index\n",
    "print(a_list.index('a'))\n",
    "\n",
    "# Count the number of occurences of an item\n",
    "print(a_list.count('a'))\n",
    "\n",
    "# Reverse the entire list\n",
    "a_list.reverse()\n",
    "print(a_list)\n"
   ]
  },
  {
   "cell_type": "markdown",
   "metadata": {},
   "source": [
    "### Nested lists\n",
    "You can have list inside a list inside a list and so on. Use the appropriate number of square brackets to get the required item.\n"
   ]
  },
  {
   "cell_type": "code",
   "execution_count": 4,
   "metadata": {},
   "outputs": [
    {
     "name": "stdout",
     "output_type": "stream",
     "text": [
      "[1, 2]\n",
      "1\n",
      "6\n",
      "11\n"
     ]
    }
   ],
   "source": [
    "# A deeply nested list. Play with it to understand it\n",
    "nested_list = [\n",
    "    [1,2], \n",
    "    [3,4,[5,6]], \n",
    "    [7,8,[9,[10,11,12]]]\n",
    "]\n",
    "\n",
    "print(nested_list[0]) \n",
    "print(nested_list[0][0])\n",
    "print(nested_list[1][2][1])\n",
    "print(nested_list[2][2][1][1])"
   ]
  },
  {
   "cell_type": "markdown",
   "metadata": {},
   "source": [
    "## Dictionaries\n",
    "\n",
    "Dictionaries are simple key-value pairs. Dictionaries in python start and end with curly braces, key and value are separated by colon and key value pairs are separated by commas. You can access\n",
    "\n",
    "```python\n",
    "a_dict = {'firstName': 'John', 'lastName': 'Smith', 'age': 25}\n",
    "```\n",
    "\n",
    "You can access the individual values by keys with a square bracket\n",
    "```python\n",
    "a_dict['firstName'] # returns John\n",
    "```\n",
    "\n",
    "A few points to note\n",
    "\n",
    "- a dictionary is a hash implementation\n",
    "- keys in dictionary are **unique not sorted**; they are not accessible by index\n",
    "- you cannot lookup a key for a value directly\n",
    "- values could be anything, even an another dictionary\n",
    "- keys could also by anything but strings are preferred for consistency\n",
    "- you can access only one key at a time"
   ]
  },
  {
   "cell_type": "code",
   "execution_count": 5,
   "metadata": {},
   "outputs": [
    {
     "name": "stdout",
     "output_type": "stream",
     "text": [
      "{'firstName': 'John', 'lastName': 'Smith', 'age': 25}\n",
      "25\n",
      "{'firstName': 'John', 'lastName': 'Smith', 'age': 31, 'gender': 'Male'}\n"
     ]
    }
   ],
   "source": [
    "# A simple dictionary\n",
    "a_dict = {'firstName': 'John', 'lastName': 'Smith', 'age': 25}\n",
    "print(a_dict)\n",
    "\n",
    "# Get an item\n",
    "print(a_dict['age'])\n",
    "\n",
    "# Set an item\n",
    "a_dict['age'] = 31\n",
    "# Add a new item\n",
    "a_dict['gender'] = 'Male'\n",
    "print(a_dict)\n",
    "\n",
    "# Remove an item\n",
    "del a_dict['gender']"
   ]
  },
  {
   "cell_type": "code",
   "execution_count": 6,
   "metadata": {},
   "outputs": [
    {
     "name": "stdout",
     "output_type": "stream",
     "text": [
      "dict_keys(['firstName', 'lastName', 'age'])\n",
      "dict_values(['John', 'Smith', 31])\n",
      "{'firstName': 'John', 'lastName': 'Smith', 'age': 31, 'employed': True, 'middleName': 'Richard'}\n"
     ]
    },
    {
     "data": {
      "text/plain": [
       "True"
      ]
     },
     "execution_count": 6,
     "metadata": {},
     "output_type": "execute_result"
    }
   ],
   "source": [
    "# Get all the keys\n",
    "print(a_dict.keys())\n",
    "\n",
    "# Get all the values\n",
    "print(a_dict.values())\n",
    "\n",
    "# Update multiple items\n",
    "a_dict.update({'employed': True, 'middleName': 'Richard'})\n",
    "print(a_dict)\n",
    "\n",
    "# Check if a key is in a dictionary\n",
    "'middleName' in a_dict"
   ]
  },
  {
   "cell_type": "markdown",
   "metadata": {},
   "source": [
    "### Nested dictionaries\n",
    "\n",
    "You could combine dictionaries within dictionaries within dictionaries and so on similar to lists. Use appropriate square brackets to get the value.\n",
    "\n",
    "You could create any data structure with this approach."
   ]
  },
  {
   "cell_type": "code",
   "execution_count": 7,
   "metadata": {},
   "outputs": [
    {
     "name": "stdout",
     "output_type": "stream",
     "text": [
      "1\n",
      "3\n",
      "John\n"
     ]
    }
   ],
   "source": [
    "nested_dict = {\n",
    "    'a': 1,\n",
    "    'b': 2,\n",
    "    'points': {'x': 3, 'y': 2, 'z': 10},\n",
    "    'person':\n",
    "        {\n",
    "            'name':\n",
    "             {\n",
    "                 'first': 'John',\n",
    "                 'last': 'Smith'\n",
    "             }\n",
    "        }\n",
    "}\n",
    "print(nested_dict['a'])\n",
    "print(nested_dict['points']['x'])\n",
    "print(nested_dict['person']['name']['first'])"
   ]
  },
  {
   "cell_type": "markdown",
   "metadata": {},
   "source": [
    "## Combining lists and dictionaries\n",
    "\n",
    "You can combine lists and dictionaries in various ways to create any data structure you need and further build upon them. Since both of them could be nested within each other, they are extremly flexible. \n",
    "\n",
    "One of the common methods is to either create your data structure as a list of dictionaries or a dictionary of different lists.\n",
    "To access such a deeply nested structure use the **right key and index**. \n",
    "\n",
    "Let's see an example. We would create the following invoice in 2 different ways\n",
    "\n",
    "product|qty|rate|value|tax|gross\n",
    "-------|---|----|-----|---|-----\n",
    "a|10|5|50|8|58\n",
    "b|1|35|35|0|35\n",
    "c|5|8|40|10|50\n"
   ]
  },
  {
   "cell_type": "code",
   "execution_count": 8,
   "metadata": {},
   "outputs": [
    {
     "name": "stdout",
     "output_type": "stream",
     "text": [
      "a\n",
      "a\n"
     ]
    }
   ],
   "source": [
    "# A dict of lists\n",
    "\n",
    "data1 = {\n",
    "    'product': ['a', 'b', 'c'],\n",
    "    'qty': [10, 1, 5],\n",
    "    'rate': [5, 35, 8],\n",
    "    'value': [50, 35, 40],\n",
    "    'tax': [8, 0, 10],\n",
    "    'gross': [58, 35, 50]\n",
    "}\n",
    "\n",
    "# A list of dicts\n",
    "data2 = [\n",
    "    {'product': 'a', 'qty': 10, 'rate': 5, 'value': 50, 'tax': 8, 'gross': 58},\n",
    "    {'product': 'b', 'qty': 1, 'rate': 35, 'value': 35, 'tax': 0, 'gross': 35},\n",
    "    {'product': 'c', 'qty': 5, 'rate': 8, 'value': 40, 'tax': 10, 'gross': 50}\n",
    "]\n",
    "\n",
    "print(data1['product'][0])\n",
    "print(data2[0]['product'])"
   ]
  },
  {
   "cell_type": "markdown",
   "metadata": {},
   "source": [
    "## Sets\n",
    "\n",
    "Python also provides a set data structure that works exactly like sets in mathematics. \n",
    "See a quick introduction to sets [here](https://www.mathsisfun.com/sets/sets-introduction.html)\n",
    "\n",
    "Its a very useful one for\n",
    " - having a unique set of items\n",
    " - do common set operations\n",
    " \n",
    "You could create a set with a pair of curly braces with items separated by commas."
   ]
  },
  {
   "cell_type": "code",
   "execution_count": 9,
   "metadata": {},
   "outputs": [
    {
     "name": "stdout",
     "output_type": "stream",
     "text": [
      "{1, 2, 3, 4, 5}\n",
      "{1, 3}\n",
      "{2, 4}\n"
     ]
    }
   ],
   "source": [
    "set_one = {1, 2, 3, 4}\n",
    "set_two = {1, 3, 5}\n",
    "\n",
    "# Union\n",
    "print(set_one.union(set_two))\n",
    "\n",
    "# Intersection\n",
    "print(set_one.intersection(set_two))\n",
    "\n",
    "# Difference\n",
    "print(set_one.difference(set_two))\n",
    "\n",
    "# The above are just common functions.\n",
    "# Python sets provide a full list of set functions you could explore"
   ]
  }
 ],
 "metadata": {
  "kernelspec": {
   "display_name": "Python 3",
   "language": "python",
   "name": "python3"
  },
  "language_info": {
   "codemirror_mode": {
    "name": "ipython",
    "version": 3
   },
   "file_extension": ".py",
   "mimetype": "text/x-python",
   "name": "python",
   "nbconvert_exporter": "python",
   "pygments_lexer": "ipython3",
   "version": "3.6.6"
  }
 },
 "nbformat": 4,
 "nbformat_minor": 2
}
