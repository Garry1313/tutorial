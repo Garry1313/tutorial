{
 "cells": [
  {
   "cell_type": "markdown",
   "metadata": {},
   "source": [
    "## Python primer\n",
    "This tutorial assumes you have installed python 3 via [anaconda].(https://www.anaconda.com/download/) and using jupyter notebook\n",
    "\n",
    "This is an extremely basic introduction to Python to get you started. This is not a python tutorial per se. If you want a more formal and thorough start to python, I recommend this excellent course from [datacamp](https://www.datacamp.com/courses/intro-to-python-for-data-science)."
   ]
  },
  {
   "cell_type": "markdown",
   "metadata": {},
   "source": [
    "We need some sort of a structure to store data. These are called data structures. We would now dive into 2 basic data structures provided by Python\n",
    " - lists\n",
    " - dictionaries\n",
    " \n",
    "**Lists** are simply arrays that are indexed by numbers.\n",
    "\n",
    "**Dictionaries** are simple key-value pairs.\n"
   ]
  },
  {
   "cell_type": "markdown",
   "metadata": {},
   "source": [
    "##\n",
    "Lists\n",
    "Lists in python start and end with a square bracket; items inside a list are separated by commas. Lists can contain anything within it and not restricted to a particular type; even an another list. Lists are indexed starting with 0.\n",
    "\n",
    "```python\n",
    "# This is a list with 4 elements\n",
    "a_list = [1,2,3,4]\n",
    "```\n",
    "\n",
    "You can access the items in a list by using the same square brackets\n",
    "```python\n",
    "a_list[0] # returns 1 since list index start with zero\n",
    "```\n",
    "\n",
    "See the below examples"
   ]
  },
  {
   "cell_type": "code",
   "execution_count": null,
   "metadata": {},
   "outputs": [],
   "source": [
    "# This is a list with 10 items\n",
    "a_list = [0,1,2,3,'a','b','c',0.5,'hello',[10,20,30]]\n",
    "print(a_list)\n",
    "\n",
    "# Get the first item\n",
    "print(a_list[0])\n",
    "\n",
    "# Get the last item\n",
    "print(a_list[9])\n",
    "\n",
    "# Get the second last item, the 9th item\n",
    "print(a_list[-2])\n",
    "\n",
    "# Access the first five elements\n",
    "print(a_list[0:5])"
   ]
  },
  {
   "cell_type": "markdown",
   "metadata": {},
   "source": [
    "As seen in the above example you could use the minus sign to access items backwards. So -1 mean the last item, -2 mean the second last and so on.\n",
    "\n",
    "You could also use the colon, *called the slice operator*, to get more than one items. The syntax is ```list[start:end:step]``` where \n",
    " - start is the starting item you want to get\n",
    " - end is the final item you want to get\n",
    " - step is the step size taken at each access\n",
    " \n",
    "**Note, to get the first 4 items, you should use list[0:4] and not 3 since python doesn't get the last item.**\n",
    "\n",
    "See the examples below"
   ]
  },
  {
   "cell_type": "code",
   "execution_count": null,
   "metadata": {},
   "outputs": [],
   "source": [
    "# Would fetch the first 3 items, not the fourth one\n",
    "print(a_list[0:3])\n",
    "\n",
    "# Same as above\n",
    "print(a_list[:3])\n",
    "\n",
    "# Get items 1,3,5,7,9\n",
    "print(a_list[0::2]) # 2 is the step size\n",
    "\n",
    "# Get the last 4 items\n",
    "print(a_list[-4:]) \n",
    "\n",
    "# Use the len function to know the length of the list\n",
    "len(a_list)"
   ]
  },
  {
   "cell_type": "markdown",
   "metadata": {},
   "source": [
    "You can add, remove, find an item in a list"
   ]
  },
  {
   "cell_type": "code",
   "execution_count": null,
   "metadata": {},
   "outputs": [],
   "source": [
    "# Append adds an item to the list\n",
    "a_list.append('add')\n",
    "print(a_list)\n",
    "\n",
    "# Remove an item by value - removes only the first occurence\n",
    "a_list.remove(2)\n",
    "print(a_list)\n",
    "\n",
    "# Find the index of an items - returns only the first index\n",
    "print(a_list.index('a'))\n",
    "\n",
    "# Count the number of occurences of an item\n",
    "print(a_list.count('a'))\n",
    "\n",
    "# Reverse the entire list\n",
    "a_list.reverse()\n",
    "print(a_list)\n"
   ]
  },
  {
   "cell_type": "markdown",
   "metadata": {},
   "source": [
    "### Nested lists\n",
    "You can have list inside a list inside a list and so on. Use the appropriate number of square brackets to get the required item.\n"
   ]
  },
  {
   "cell_type": "code",
   "execution_count": null,
   "metadata": {},
   "outputs": [],
   "source": [
    "# A deeply nested list. Play with it to understand it\n",
    "nested_list = [\n",
    "    [1,2], \n",
    "    [3,4,[5,6]], \n",
    "    [7,8,[9,[10,11,12]]]\n",
    "]\n",
    "\n",
    "print(nested_list[0]) \n",
    "print(nested_list[0][0])\n",
    "print(nested_list[1][2][1])\n",
    "print(nested_list[2][2][1][1])"
   ]
  },
  {
   "cell_type": "markdown",
   "metadata": {},
   "source": [
    "# Dictionaries"
   ]
  }
 ],
 "metadata": {
  "kernelspec": {
   "display_name": "Python 3",
   "language": "python",
   "name": "python3"
  },
  "language_info": {
   "codemirror_mode": {
    "name": "ipython",
    "version": 3
   },
   "file_extension": ".py",
   "mimetype": "text/x-python",
   "name": "python",
   "nbconvert_exporter": "python",
   "pygments_lexer": "ipython3",
   "version": "3.6.6"
  }
 },
 "nbformat": 4,
 "nbformat_minor": 2
}
