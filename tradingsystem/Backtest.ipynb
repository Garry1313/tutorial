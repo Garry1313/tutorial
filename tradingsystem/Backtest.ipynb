{
 "cells": [
  {
   "cell_type": "markdown",
   "metadata": {},
   "source": [
    "## DataLoader Class\n",
    "The DataLoader Class loads data into a SQLite database from files. All files in the folder should be in the same format and they should be csv files or zipped csv files or any other file type in csv format"
   ]
  },
  {
   "cell_type": "code",
   "execution_count": null,
   "metadata": {},
   "outputs": [],
   "source": [
    "# Import libraries\n",
    "import pandas as pd\n",
    "import os\n",
    "from sqlalchemy import create_engine\n",
    "from loaders import DataLoader"
   ]
  },
  {
   "cell_type": "markdown",
   "metadata": {},
   "source": [
    "## Parameters that could be changed"
   ]
  },
  {
   "cell_type": "code",
   "execution_count": null,
   "metadata": {},
   "outputs": [],
   "source": [
    "DIRECTORY = 'data' # Folder in which files are saved\n",
    "DBNAME = 'data.sqlite3' # Name of the database\n",
    "TABLENAME = 'eod' # Name of the table\n",
    "UNIVERSE = 'NIFTY50'\n",
    "STOP_LOSS = 4\n",
    "NUM_STOCKS = 5\n",
    "CAPITAL = 20000\n",
    "LEVERAGE = 1\n",
    "REF_PRICE = 'close'\n",
    "COMMISSION = 0.03 # In percent"
   ]
  },
  {
   "cell_type": "markdown",
   "metadata": {},
   "source": [
    "Don't change the below cell; Just run it.\n",
    "\n",
    "This updates data of all the files in the folder. If you add a file, just rerun it again so that the database is updated."
   ]
  },
  {
   "cell_type": "raw",
   "metadata": {},
   "source": [
    "# Use this cell only if you have problems with SQLite\n",
    "\n",
    "def collate_data(directory, **kwargs):\n",
    "    import os\n",
    "    collect = []\n",
    "    for root, directory, files in os.walk(DIRECTORY):\n",
    "        for file in files:\n",
    "            filename = os.path.join(root, file)\n",
    "            #print(filename)\n",
    "            temp = pd.read_csv(filename, **kwargs)\n",
    "            collect.append(temp)\n",
    "    result = pd.concat(collect).reset_index(drop=True)\n",
    "    return result\n",
    "\n",
    "df = collate_data(DIRECTORY, parse_dates=['TIMESTAMP'], usecols=range(13))\n",
    "df = df.rename(lambda x: x.lower(), axis='columns')\n",
    "df = df.set_index('timestamp')"
   ]
  },
  {
   "cell_type": "code",
   "execution_count": null,
   "metadata": {},
   "outputs": [],
   "source": [
    "connection_string = 'sqlite:///' + DBNAME\n",
    "engine = create_engine(connection_string)\n",
    "dl = DataLoader(DIRECTORY, mode='SQL', engine=engine, tablename=TABLENAME)\n",
    "dl.load_data(parse_dates=['TIMESTAMP'], usecols=range(13)) # This actually loads data"
   ]
  },
  {
   "cell_type": "code",
   "execution_count": null,
   "metadata": {},
   "outputs": [],
   "source": [
    "# Now read the entire table back\n",
    "df = pd.read_sql_table(TABLENAME, engine)\n",
    "\n",
    "# Check the number of rows; would increase as you put more files in your folder\n",
    "len(df)"
   ]
  },
  {
   "cell_type": "markdown",
   "metadata": {},
   "source": [
    "Don't change any cells below.\n",
    "Just change the **PARAMETERS** above\n",
    "\n",
    "Of course, you could always *hack the below code*"
   ]
  },
  {
   "cell_type": "markdown",
   "metadata": {},
   "source": [
    "Backtesting\n",
    "------------\n",
    "1. Filter data only for our stock universe\n",
    "2. Calculate daily returns for each of the stock\n",
    "3. Carry the returns figure to the next day so that we can view them the next day\n",
    "4. Group by each day, and apply our strategy\n",
    "5. Append all the data\n",
    "6. Calculate prices and performance\n",
    "7. Evaluate metrics"
   ]
  },
  {
   "cell_type": "code",
   "execution_count": null,
   "metadata": {},
   "outputs": [],
   "source": [
    "symbols = pd.read_excel('universe.xlsx', sheet_name=UNIVERSE, header=None).values.ravel()\n",
    "\n",
    "df = df[df['symbol'].isin(symbols)]\n",
    "df = df[df['series'] == \"EQ\"].reset_index(drop=True)\n",
    "df['ret'] = (df['close']/df['prevclose']) - 1\n",
    "df = df.sort_values(by='timestamp')\n",
    "df['ret'] = df.groupby('symbol')['ret'].transform(lambda x: x.shift(1))\n",
    "grouped = df.groupby('timestamp')\n",
    "collect = []\n",
    "for name, group in grouped:\n",
    "    temp = group.sort_values(by='ret', ascending=False).iloc[:NUM_STOCKS]\n",
    "    collect.append(temp)\n",
    "orders = pd.concat(collect)\n",
    "    "
   ]
  },
  {
   "cell_type": "code",
   "execution_count": null,
   "metadata": {},
   "outputs": [],
   "source": [
    "def isPrice(price, high, low):\n",
    "    if price >= low and price <=high:\n",
    "        return True\n",
    "    else:\n",
    "        False"
   ]
  },
  {
   "cell_type": "code",
   "execution_count": null,
   "metadata": {},
   "outputs": [],
   "source": [
    "trading_capital = CAPITAL * LEVERAGE\n",
    "orders['price'] = orders['open']\n",
    "orders['stop_loss'] = (orders['price'] * (1+STOP_LOSS*0.01)).round(2)\n",
    "orders['qty'] = (trading_capital/NUM_STOCKS/orders['price']).round()\n",
    "orders['sell'] = [price if isPrice(price, high, low) else close for\n",
    "                 price, high, low, close in \n",
    "                 zip(orders['price'], orders['high'], orders['low'], orders[REF_PRICE])]\n",
    "orders['buy'] = [price if isPrice(price, high, low) else close for\n",
    "                 price, high, low, close in \n",
    "                 zip(orders['stop_loss'], orders['high'], orders['low'], orders[REF_PRICE])]\n",
    "orders['profit_per_unit'] = orders['sell'] - orders['buy']\n",
    "orders['total_profit'] = orders['profit_per_unit'] * orders['qty']\n",
    "orders['commission'] = orders.eval('qty*(price+stop_loss)')*COMMISSION*0.01\n",
    "orders['net_profit'] = orders['total_profit'] - orders['commission']\n",
    "cols = ['timestamp', 'symbol', 'buy', 'sell', 'profit_per_unit', 'total_profit']\n"
   ]
  },
  {
   "cell_type": "markdown",
   "metadata": {},
   "source": [
    "## Metrics"
   ]
  },
  {
   "cell_type": "code",
   "execution_count": null,
   "metadata": {},
   "outputs": [],
   "source": [
    "orders.tail()[['symbol', 'open', 'high', 'low', 'close', \n",
    "               'qty', 'buy', 'sell', 'total_profit', 'net_profit']]"
   ]
  },
  {
   "cell_type": "markdown",
   "metadata": {},
   "source": [
    "Profit calculated on total_profit.\n",
    "You can change this to **net profit** to see the real results"
   ]
  },
  {
   "cell_type": "code",
   "execution_count": null,
   "metadata": {},
   "outputs": [],
   "source": [
    "\n",
    "total_profit = orders['total_profit'].sum()\n",
    "'Returns for the period = {:.2f}%'.format((total_profit/CAPITAL)*100)"
   ]
  },
  {
   "cell_type": "code",
   "execution_count": null,
   "metadata": {},
   "outputs": [],
   "source": [
    "import seaborn as sns\n",
    "import matplotlib.pyplot as plt\n",
    "sns.set()\n",
    "by_day = orders.groupby('timestamp').total_profit.sum()\n",
    "(by_day.cumsum() + CAPITAL).plot(title = 'Portfolio by day')\n",
    "plt.xlabel('Date')\n",
    "plt.ylabel('Capital')\n",
    "plt.show()"
   ]
  },
  {
   "cell_type": "code",
   "execution_count": null,
   "metadata": {},
   "outputs": [],
   "source": [
    "# Correlation matrix\n",
    "# This is useful to find related factors\n",
    "orders.corr()"
   ]
  },
  {
   "cell_type": "code",
   "execution_count": null,
   "metadata": {},
   "outputs": [],
   "source": [
    "# Profit by date\n",
    "# Add any columns if you like in the cols list\n",
    "cols = ['total_profit', 'net_profit']\n",
    "orders.groupby('timestamp')[cols].sum().tail()"
   ]
  },
  {
   "cell_type": "code",
   "execution_count": null,
   "metadata": {},
   "outputs": [],
   "source": [
    "# Best and worst results\n",
    "# Change n for the required number of days\n",
    "n = 5\n",
    "\n",
    "print('Best results')\n",
    "print(orders.groupby('timestamp')['total_profit'].sum().sort_values().tail(n))\n",
    "\n",
    "print('Worst results')\n",
    "print(orders.groupby('timestamp')['total_profit'].sum().sort_values().head(n))"
   ]
  }
 ],
 "metadata": {
  "kernelspec": {
   "display_name": "Python 3",
   "language": "python",
   "name": "python3"
  },
  "language_info": {
   "codemirror_mode": {
    "name": "ipython",
    "version": 3
   },
   "file_extension": ".py",
   "mimetype": "text/x-python",
   "name": "python",
   "nbconvert_exporter": "python",
   "pygments_lexer": "ipython3",
   "version": "3.6.6"
  }
 },
 "nbformat": 4,
 "nbformat_minor": 2
}
