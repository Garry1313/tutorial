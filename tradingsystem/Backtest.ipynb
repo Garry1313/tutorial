{
 "cells": [
  {
   "cell_type": "markdown",
   "metadata": {},
   "source": [
    "## DataLoader Class\n",
    "The DataLoader Class loads data into a SQLite database from files. All files in the folder should be in the same format and they should be csv files or zipped csv files or any other file type in csv format"
   ]
  },
  {
   "cell_type": "code",
   "execution_count": 1,
   "metadata": {},
   "outputs": [],
   "source": [
    "# Import libraries\n",
    "import pandas as pd\n",
    "import os\n",
    "from sqlalchemy import create_engine\n",
    "from loaders import DataLoader"
   ]
  },
  {
   "cell_type": "markdown",
   "metadata": {},
   "source": [
    "## Parameters that could be changed"
   ]
  },
  {
   "cell_type": "code",
   "execution_count": 2,
   "metadata": {},
   "outputs": [],
   "source": [
    "DIRECTORY = 'data' # Folder in which files are saved\n",
    "DBNAME = 'data.sqlite3' # Name of the database\n",
    "TABLENAME = 'eod' # Name of the table\n",
    "UNIVERSE = 'NIFTY50'\n",
    "STOP_LOSS = 4\n",
    "NUM_STOCKS = 5\n",
    "CAPITAL = 20000\n",
    "LEVERAGE = 1\n",
    "REF_PRICE = 'close'\n",
    "COMMISSION = 0 # In percent"
   ]
  },
  {
   "cell_type": "markdown",
   "metadata": {},
   "source": [
    "Don't change the below cell; Just run it.\n",
    "\n",
    "This updates data of all the files in the folder. If you add a file, just rerun it again so that the database is updated."
   ]
  },
  {
   "cell_type": "raw",
   "metadata": {},
   "source": [
    "# Use this cell only if you have problems with SQLite\n",
    "\n",
    "def collate_data(directory, **kwargs):\n",
    "    import os\n",
    "    collect = []\n",
    "    for root, directory, files in os.walk(DIRECTORY):\n",
    "        for file in files:\n",
    "            filename = os.path.join(root, file)\n",
    "            #print(filename)\n",
    "            temp = pd.read_csv(filename, **kwargs)\n",
    "            collect.append(temp)\n",
    "    result = pd.concat(collect).reset_index(drop=True)\n",
    "    return result\n",
    "\n",
    "df = collate_data(DIRECTORY, parse_dates=['TIMESTAMP'], usecols=range(13))\n",
    "df = df.rename(lambda x: x.lower(), axis='columns')\n",
    "df = df.set_index('timestamp')"
   ]
  },
  {
   "cell_type": "code",
   "execution_count": 3,
   "metadata": {},
   "outputs": [],
   "source": [
    "connection_string = 'sqlite:///' + DBNAME\n",
    "engine = create_engine(connection_string)\n",
    "dl = DataLoader(DIRECTORY, mode='SQL', engine=engine, tablename=TABLENAME)\n",
    "dl.load_data(parse_dates=['TIMESTAMP'], usecols=range(13)) # This actually loads data"
   ]
  },
  {
   "cell_type": "code",
   "execution_count": 4,
   "metadata": {},
   "outputs": [
    {
     "data": {
      "text/plain": [
       "41881"
      ]
     },
     "execution_count": 4,
     "metadata": {},
     "output_type": "execute_result"
    }
   ],
   "source": [
    "# Now read the entire table back\n",
    "df = pd.read_sql_table(TABLENAME, engine)\n",
    "\n",
    "# Check the number of rows; would increase as you put more files in your folder\n",
    "len(df)"
   ]
  },
  {
   "cell_type": "markdown",
   "metadata": {},
   "source": [
    "Don't change any cells below.\n",
    "Just change the **PARAMETERS** above\n",
    "\n",
    "Of course, you could always *hack the below code*"
   ]
  },
  {
   "cell_type": "markdown",
   "metadata": {},
   "source": [
    "Backtesting\n",
    "------------\n",
    "1. Filter data only for our stock universe\n",
    "2. Calculate daily returns for each of the stock\n",
    "3. Carry the returns figure to the next day so that we can view them the next day\n",
    "4. Group by each day, and apply our strategy\n",
    "5. Append all the data\n",
    "6. Calculate prices and performance\n",
    "7. Evaluate metrics"
   ]
  },
  {
   "cell_type": "code",
   "execution_count": 5,
   "metadata": {},
   "outputs": [],
   "source": [
    "symbols = pd.read_excel('universe.xlsx', sheet_name=UNIVERSE, header=None).values.ravel()\n",
    "\n",
    "df = df[df['symbol'].isin(symbols)]\n",
    "df = df[df['series'] == \"EQ\"].reset_index(drop=True)\n",
    "df['ret'] = (df['close']/df['prevclose']) - 1\n",
    "df = df.sort_values(by='timestamp')\n",
    "df['ret'] = df.groupby('symbol')['ret'].transform(lambda x: x.shift(1))\n",
    "grouped = df.groupby('timestamp')\n",
    "collect = []\n",
    "for name, group in grouped:\n",
    "    temp = group.sort_values(by='ret', ascending=False).iloc[:5]\n",
    "    collect.append(temp)\n",
    "orders = pd.concat(collect)\n",
    "    "
   ]
  },
  {
   "cell_type": "code",
   "execution_count": 6,
   "metadata": {},
   "outputs": [],
   "source": [
    "def isPrice(price, high, low):\n",
    "    if price >= low and price <=high:\n",
    "        return True\n",
    "    else:\n",
    "        False"
   ]
  },
  {
   "cell_type": "code",
   "execution_count": 7,
   "metadata": {},
   "outputs": [],
   "source": [
    "trading_capital = CAPITAL * LEVERAGE\n",
    "orders['price'] = orders['open']\n",
    "orders['stop_loss'] = (orders['price'] * (1+STOP_LOSS*0.01)).round(2)\n",
    "orders['qty'] = (trading_capital/NUM_STOCKS/orders['price']).round()\n",
    "orders['sell'] = [price if isPrice(price, high, low) else close for\n",
    "                 price, high, low, close in \n",
    "                 zip(orders['price'], orders['high'], orders['low'], orders[REF_PRICE])]\n",
    "orders['buy'] = [price if isPrice(price, high, low) else close for\n",
    "                 price, high, low, close in \n",
    "                 zip(orders['stop_loss'], orders['high'], orders['low'], orders[REF_PRICE])]\n",
    "orders['profit_per_unit'] = orders['sell'] - orders['buy']\n",
    "orders['total_profit'] = orders['profit_per_unit'] * orders['qty']\n",
    "cols = ['timestamp', 'symbol', 'buy', 'sell', 'profit_per_unit', 'total_profit']\n"
   ]
  },
  {
   "cell_type": "markdown",
   "metadata": {},
   "source": [
    "## Metrics"
   ]
  },
  {
   "cell_type": "code",
   "execution_count": 8,
   "metadata": {},
   "outputs": [
    {
     "data": {
      "text/html": [
       "<div>\n",
       "<style scoped>\n",
       "    .dataframe tbody tr th:only-of-type {\n",
       "        vertical-align: middle;\n",
       "    }\n",
       "\n",
       "    .dataframe tbody tr th {\n",
       "        vertical-align: top;\n",
       "    }\n",
       "\n",
       "    .dataframe thead th {\n",
       "        text-align: right;\n",
       "    }\n",
       "</style>\n",
       "<table border=\"1\" class=\"dataframe\">\n",
       "  <thead>\n",
       "    <tr style=\"text-align: right;\">\n",
       "      <th></th>\n",
       "      <th>symbol</th>\n",
       "      <th>open</th>\n",
       "      <th>high</th>\n",
       "      <th>low</th>\n",
       "      <th>close</th>\n",
       "      <th>qty</th>\n",
       "      <th>buy</th>\n",
       "      <th>sell</th>\n",
       "      <th>total_profit</th>\n",
       "    </tr>\n",
       "  </thead>\n",
       "  <tbody>\n",
       "    <tr>\n",
       "      <th>1060</th>\n",
       "      <td>DRREDDY</td>\n",
       "      <td>2510.0</td>\n",
       "      <td>2632.0</td>\n",
       "      <td>2495.00</td>\n",
       "      <td>2593.40</td>\n",
       "      <td>2.0</td>\n",
       "      <td>2610.40</td>\n",
       "      <td>2510.0</td>\n",
       "      <td>-200.80</td>\n",
       "    </tr>\n",
       "    <tr>\n",
       "      <th>1092</th>\n",
       "      <td>TECHM</td>\n",
       "      <td>768.0</td>\n",
       "      <td>776.5</td>\n",
       "      <td>741.50</td>\n",
       "      <td>745.65</td>\n",
       "      <td>5.0</td>\n",
       "      <td>745.65</td>\n",
       "      <td>768.0</td>\n",
       "      <td>111.75</td>\n",
       "    </tr>\n",
       "    <tr>\n",
       "      <th>1080</th>\n",
       "      <td>LUPIN</td>\n",
       "      <td>936.5</td>\n",
       "      <td>957.9</td>\n",
       "      <td>931.55</td>\n",
       "      <td>936.10</td>\n",
       "      <td>4.0</td>\n",
       "      <td>936.10</td>\n",
       "      <td>936.5</td>\n",
       "      <td>1.60</td>\n",
       "    </tr>\n",
       "    <tr>\n",
       "      <th>1089</th>\n",
       "      <td>TATAMOTORS</td>\n",
       "      <td>271.4</td>\n",
       "      <td>273.0</td>\n",
       "      <td>265.25</td>\n",
       "      <td>266.60</td>\n",
       "      <td>15.0</td>\n",
       "      <td>266.60</td>\n",
       "      <td>271.4</td>\n",
       "      <td>72.00</td>\n",
       "    </tr>\n",
       "    <tr>\n",
       "      <th>1064</th>\n",
       "      <td>HCLTECH</td>\n",
       "      <td>1053.0</td>\n",
       "      <td>1061.0</td>\n",
       "      <td>1044.60</td>\n",
       "      <td>1049.15</td>\n",
       "      <td>4.0</td>\n",
       "      <td>1049.15</td>\n",
       "      <td>1053.0</td>\n",
       "      <td>15.40</td>\n",
       "    </tr>\n",
       "  </tbody>\n",
       "</table>\n",
       "</div>"
      ],
      "text/plain": [
       "          symbol    open    high      low    close   qty      buy    sell  \\\n",
       "1060     DRREDDY  2510.0  2632.0  2495.00  2593.40   2.0  2610.40  2510.0   \n",
       "1092       TECHM   768.0   776.5   741.50   745.65   5.0   745.65   768.0   \n",
       "1080       LUPIN   936.5   957.9   931.55   936.10   4.0   936.10   936.5   \n",
       "1089  TATAMOTORS   271.4   273.0   265.25   266.60  15.0   266.60   271.4   \n",
       "1064     HCLTECH  1053.0  1061.0  1044.60  1049.15   4.0  1049.15  1053.0   \n",
       "\n",
       "      total_profit  \n",
       "1060       -200.80  \n",
       "1092        111.75  \n",
       "1080          1.60  \n",
       "1089         72.00  \n",
       "1064         15.40  "
      ]
     },
     "execution_count": 8,
     "metadata": {},
     "output_type": "execute_result"
    }
   ],
   "source": [
    "orders.tail()[['symbol', 'open', 'high', 'low', 'close', \n",
    "               'qty', 'buy', 'sell', 'total_profit']]"
   ]
  },
  {
   "cell_type": "code",
   "execution_count": 9,
   "metadata": {},
   "outputs": [
    {
     "data": {
      "text/plain": [
       "'Returns for the period = 4.11%'"
      ]
     },
     "execution_count": 9,
     "metadata": {},
     "output_type": "execute_result"
    }
   ],
   "source": [
    "total_profit = orders['total_profit'].sum()\n",
    "'Returns for the period = {:.2f}%'.format((total_profit/CAPITAL)*100)"
   ]
  },
  {
   "cell_type": "code",
   "execution_count": 10,
   "metadata": {},
   "outputs": [
    {
     "data": {
      "text/plain": [
       "count    110.000000\n",
       "mean       7.468818\n",
       "std       72.278348\n",
       "min     -200.800000\n",
       "25%      -35.837500\n",
       "50%       12.450000\n",
       "75%       46.237500\n",
       "max      207.000000\n",
       "Name: total_profit, dtype: float64"
      ]
     },
     "execution_count": 10,
     "metadata": {},
     "output_type": "execute_result"
    }
   ],
   "source": [
    "orders['total_profit'].describe()"
   ]
  },
  {
   "cell_type": "code",
   "execution_count": 11,
   "metadata": {},
   "outputs": [
    {
     "data": {
      "text/plain": [
       "<Figure size 640x480 with 1 Axes>"
      ]
     },
     "metadata": {},
     "output_type": "display_data"
    }
   ],
   "source": [
    "import seaborn as sns\n",
    "import matplotlib.pyplot as plt\n",
    "sns.set()\n",
    "by_day = orders.groupby('timestamp').total_profit.sum()\n",
    "(by_day.cumsum() + CAPITAL).plot(title = 'Portfolio by day')\n",
    "plt.xlabel('Date')\n",
    "plt.ylabel('Capital')\n",
    "plt.show()"
   ]
  },
  {
   "cell_type": "code",
   "execution_count": 12,
   "metadata": {},
   "outputs": [
    {
     "data": {
      "text/html": [
       "<div>\n",
       "<style scoped>\n",
       "    .dataframe tbody tr th:only-of-type {\n",
       "        vertical-align: middle;\n",
       "    }\n",
       "\n",
       "    .dataframe tbody tr th {\n",
       "        vertical-align: top;\n",
       "    }\n",
       "\n",
       "    .dataframe thead th {\n",
       "        text-align: right;\n",
       "    }\n",
       "</style>\n",
       "<table border=\"1\" class=\"dataframe\">\n",
       "  <thead>\n",
       "    <tr style=\"text-align: right;\">\n",
       "      <th></th>\n",
       "      <th>symbol</th>\n",
       "      <th>series</th>\n",
       "      <th>open</th>\n",
       "      <th>high</th>\n",
       "      <th>low</th>\n",
       "      <th>close</th>\n",
       "      <th>last</th>\n",
       "      <th>prevclose</th>\n",
       "      <th>tottrdqty</th>\n",
       "      <th>tottrdval</th>\n",
       "      <th>totaltrades</th>\n",
       "      <th>isin</th>\n",
       "      <th>ret</th>\n",
       "      <th>price</th>\n",
       "      <th>stop_loss</th>\n",
       "      <th>qty</th>\n",
       "      <th>sell</th>\n",
       "      <th>buy</th>\n",
       "      <th>profit_per_unit</th>\n",
       "      <th>total_profit</th>\n",
       "    </tr>\n",
       "    <tr>\n",
       "      <th>timestamp</th>\n",
       "      <th></th>\n",
       "      <th></th>\n",
       "      <th></th>\n",
       "      <th></th>\n",
       "      <th></th>\n",
       "      <th></th>\n",
       "      <th></th>\n",
       "      <th></th>\n",
       "      <th></th>\n",
       "      <th></th>\n",
       "      <th></th>\n",
       "      <th></th>\n",
       "      <th></th>\n",
       "      <th></th>\n",
       "      <th></th>\n",
       "      <th></th>\n",
       "      <th></th>\n",
       "      <th></th>\n",
       "      <th></th>\n",
       "      <th></th>\n",
       "    </tr>\n",
       "  </thead>\n",
       "  <tbody>\n",
       "    <tr>\n",
       "      <th>2018-08-30</th>\n",
       "      <td>UPL</td>\n",
       "      <td>EQ</td>\n",
       "      <td>686.0</td>\n",
       "      <td>699.0</td>\n",
       "      <td>683.00</td>\n",
       "      <td>696.15</td>\n",
       "      <td>694.05</td>\n",
       "      <td>680.0</td>\n",
       "      <td>5979259</td>\n",
       "      <td>4.149426e+09</td>\n",
       "      <td>81679</td>\n",
       "      <td>INE628A01036</td>\n",
       "      <td>0.039517</td>\n",
       "      <td>686.0</td>\n",
       "      <td>713.44</td>\n",
       "      <td>6.0</td>\n",
       "      <td>686.0</td>\n",
       "      <td>696.15</td>\n",
       "      <td>-10.15</td>\n",
       "      <td>-60.90</td>\n",
       "    </tr>\n",
       "    <tr>\n",
       "      <th>2018-08-30</th>\n",
       "      <td>BAJFINANCE</td>\n",
       "      <td>EQ</td>\n",
       "      <td>2993.9</td>\n",
       "      <td>2993.9</td>\n",
       "      <td>2920.95</td>\n",
       "      <td>2926.75</td>\n",
       "      <td>2928.00</td>\n",
       "      <td>2985.5</td>\n",
       "      <td>1452996</td>\n",
       "      <td>4.284215e+09</td>\n",
       "      <td>88899</td>\n",
       "      <td>INE296A01024</td>\n",
       "      <td>0.018039</td>\n",
       "      <td>2993.9</td>\n",
       "      <td>3113.66</td>\n",
       "      <td>1.0</td>\n",
       "      <td>2993.9</td>\n",
       "      <td>2926.75</td>\n",
       "      <td>67.15</td>\n",
       "      <td>67.15</td>\n",
       "    </tr>\n",
       "    <tr>\n",
       "      <th>2018-08-30</th>\n",
       "      <td>SBIN</td>\n",
       "      <td>EQ</td>\n",
       "      <td>309.3</td>\n",
       "      <td>310.5</td>\n",
       "      <td>306.00</td>\n",
       "      <td>308.60</td>\n",
       "      <td>308.90</td>\n",
       "      <td>309.7</td>\n",
       "      <td>19935935</td>\n",
       "      <td>6.139214e+09</td>\n",
       "      <td>112027</td>\n",
       "      <td>INE062A01020</td>\n",
       "      <td>0.014246</td>\n",
       "      <td>309.3</td>\n",
       "      <td>321.67</td>\n",
       "      <td>13.0</td>\n",
       "      <td>309.3</td>\n",
       "      <td>308.60</td>\n",
       "      <td>0.70</td>\n",
       "      <td>9.10</td>\n",
       "    </tr>\n",
       "    <tr>\n",
       "      <th>2018-08-30</th>\n",
       "      <td>ONGC</td>\n",
       "      <td>EQ</td>\n",
       "      <td>176.9</td>\n",
       "      <td>181.9</td>\n",
       "      <td>176.15</td>\n",
       "      <td>177.45</td>\n",
       "      <td>178.20</td>\n",
       "      <td>177.0</td>\n",
       "      <td>11296260</td>\n",
       "      <td>2.023039e+09</td>\n",
       "      <td>84631</td>\n",
       "      <td>INE213A01029</td>\n",
       "      <td>0.013746</td>\n",
       "      <td>176.9</td>\n",
       "      <td>183.98</td>\n",
       "      <td>23.0</td>\n",
       "      <td>176.9</td>\n",
       "      <td>177.45</td>\n",
       "      <td>-0.55</td>\n",
       "      <td>-12.65</td>\n",
       "    </tr>\n",
       "    <tr>\n",
       "      <th>2018-08-30</th>\n",
       "      <td>BPCL</td>\n",
       "      <td>EQ</td>\n",
       "      <td>359.9</td>\n",
       "      <td>364.5</td>\n",
       "      <td>357.85</td>\n",
       "      <td>363.35</td>\n",
       "      <td>362.85</td>\n",
       "      <td>361.7</td>\n",
       "      <td>4065049</td>\n",
       "      <td>1.470797e+09</td>\n",
       "      <td>40564</td>\n",
       "      <td>INE029A01011</td>\n",
       "      <td>0.008785</td>\n",
       "      <td>359.9</td>\n",
       "      <td>374.30</td>\n",
       "      <td>11.0</td>\n",
       "      <td>359.9</td>\n",
       "      <td>363.35</td>\n",
       "      <td>-3.45</td>\n",
       "      <td>-37.95</td>\n",
       "    </tr>\n",
       "  </tbody>\n",
       "</table>\n",
       "</div>"
      ],
      "text/plain": [
       "                symbol series    open    high      low    close     last  \\\n",
       "timestamp                                                                  \n",
       "2018-08-30         UPL     EQ   686.0   699.0   683.00   696.15   694.05   \n",
       "2018-08-30  BAJFINANCE     EQ  2993.9  2993.9  2920.95  2926.75  2928.00   \n",
       "2018-08-30        SBIN     EQ   309.3   310.5   306.00   308.60   308.90   \n",
       "2018-08-30        ONGC     EQ   176.9   181.9   176.15   177.45   178.20   \n",
       "2018-08-30        BPCL     EQ   359.9   364.5   357.85   363.35   362.85   \n",
       "\n",
       "            prevclose  tottrdqty     tottrdval  totaltrades          isin  \\\n",
       "timestamp                                                                   \n",
       "2018-08-30      680.0    5979259  4.149426e+09        81679  INE628A01036   \n",
       "2018-08-30     2985.5    1452996  4.284215e+09        88899  INE296A01024   \n",
       "2018-08-30      309.7   19935935  6.139214e+09       112027  INE062A01020   \n",
       "2018-08-30      177.0   11296260  2.023039e+09        84631  INE213A01029   \n",
       "2018-08-30      361.7    4065049  1.470797e+09        40564  INE029A01011   \n",
       "\n",
       "                 ret   price  stop_loss   qty    sell      buy  \\\n",
       "timestamp                                                        \n",
       "2018-08-30  0.039517   686.0     713.44   6.0   686.0   696.15   \n",
       "2018-08-30  0.018039  2993.9    3113.66   1.0  2993.9  2926.75   \n",
       "2018-08-30  0.014246   309.3     321.67  13.0   309.3   308.60   \n",
       "2018-08-30  0.013746   176.9     183.98  23.0   176.9   177.45   \n",
       "2018-08-30  0.008785   359.9     374.30  11.0   359.9   363.35   \n",
       "\n",
       "            profit_per_unit  total_profit  \n",
       "timestamp                                  \n",
       "2018-08-30           -10.15        -60.90  \n",
       "2018-08-30            67.15         67.15  \n",
       "2018-08-30             0.70          9.10  \n",
       "2018-08-30            -0.55        -12.65  \n",
       "2018-08-30            -3.45        -37.95  "
      ]
     },
     "execution_count": 12,
     "metadata": {},
     "output_type": "execute_result"
    }
   ],
   "source": [
    "orders.set_index('timestamp').loc['2018-08-30']"
   ]
  },
  {
   "cell_type": "code",
   "execution_count": null,
   "metadata": {},
   "outputs": [],
   "source": []
  }
 ],
 "metadata": {
  "kernelspec": {
   "display_name": "Python 3",
   "language": "python",
   "name": "python3"
  },
  "language_info": {
   "codemirror_mode": {
    "name": "ipython",
    "version": 3
   },
   "file_extension": ".py",
   "mimetype": "text/x-python",
   "name": "python",
   "nbconvert_exporter": "python",
   "pygments_lexer": "ipython3",
   "version": "3.6.5"
  }
 },
 "nbformat": 4,
 "nbformat_minor": 2
}
